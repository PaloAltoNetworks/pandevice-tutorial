{
 "cells": [
  {
   "cell_type": "markdown",
   "metadata": {
    "deletable": false,
    "editable": false,
    "run_control": {
     "frozen": true
    }
   },
   "source": [
    "# Lesson 2 - Getting Started"
   ]
  },
  {
   "cell_type": "markdown",
   "metadata": {
    "deletable": false,
    "editable": false,
    "run_control": {
     "frozen": true
    }
   },
   "source": [
    "The purpose of this lesson is to try out some of the basics and get a feel for the Device Framework. We'll dig deeper into these concepts in Lesson 3.\n",
    "\n",
    "\n",
    "## Configuration Trees\n",
    "\n",
    "Device Framwork works differently than most firewall API tools because it models the API into objects much like the GUI does. For example, you might be used to working with an XPath to an address object like this:\n",
    "\n",
    "`/config/devices/entry[@name=\"localhost.localdomain\"]/vsys/entry[@name=\"vsys1\"]/address/entry[@name=\"MyAddress\"]`\n",
    "\n",
    "Instead, Device Framwork uses objects in python, so the above xpath would be an object you create like this:\n",
    "\n",
    "`myaddress = objects.AddressObject('MyAddress')`\n",
    "\n",
    "Much shorter and easier to use in python!\n",
    "\n",
    "When you combine these objects into a hierarchy, then you get a tree called the **Configuration Tree**.  The configuration tree is a representation of a firewall's configuration using a tree of objects in memory.\n",
    "\n",
    "Let's look at an example. Run the following code cells using the <button class=\"btn btn-default btn-xs\"><i class=\"fa-step-forward fa\"></i><span class=\"toolbar-btn-label\">Run</span></button> button or `Shift-Enter`."
   ]
  },
  {
   "cell_type": "markdown",
   "metadata": {
    "deletable": false,
    "editable": false,
    "run_control": {
     "frozen": true
    }
   },
   "source": [
    "**Step 1: Import the pandevice modules**  \n",
    "You installed the Device Framework (pandevice) library in [Lesson 1](Lesson 1 - Introduction.ipynb). Now you need to import the modules from the library into memory. Modules in the library are generally named for the tabs at the top of the Firewall and Panorama GUI. We'll import the **firewall** and **objects** modules for now."
   ]
  },
  {
   "cell_type": "code",
   "execution_count": null,
   "metadata": {
    "deletable": false,
    "editable": false
   },
   "outputs": [],
   "source": [
    "from pandevice import firewall, objects"
   ]
  },
  {
   "cell_type": "markdown",
   "metadata": {
    "deletable": false,
    "editable": false,
    "run_control": {
     "frozen": true
    }
   },
   "source": [
    "**Step 2: Create a config tree**  \n",
    "Create a couple objects and put them in a simple tree"
   ]
  },
  {
   "cell_type": "code",
   "execution_count": null,
   "metadata": {
    "deletable": false,
    "editable": false
   },
   "outputs": [],
   "source": [
    "# Create a firewall object and an address object\n",
    "fw = firewall.Firewall('10.30.11.101', 'admin', 'Ignite18')\n",
    "apache = objects.AddressObject('ApacheServer', '5.5.5.5', description=\"My Web Server\")\n",
    "\n",
    "# Now make the address object a child of the firewall object using add()\n",
    "fw.add(apache)"
   ]
  },
  {
   "cell_type": "markdown",
   "metadata": {
    "deletable": false,
    "editable": false,
    "run_control": {
     "frozen": true
    }
   },
   "source": [
    "The output of this cell is the `ApacheServer` address object. Remember that the last command in a cell is shown as the output of that cell.  In this case, the last command is `fw.add(apache)`. This command returns the object that was added, which is why the output is the `ApacheServer` object."
   ]
  },
  {
   "cell_type": "markdown",
   "metadata": {
    "deletable": false,
    "editable": false,
    "run_control": {
     "frozen": true
    }
   },
   "source": [
    "**Step 3: Display the config tree**  \n",
    "Let's see that configuration tree we just created using the tree method."
   ]
  },
  {
   "cell_type": "code",
   "execution_count": null,
   "metadata": {
    "deletable": false,
    "editable": false,
    "scrolled": true
   },
   "outputs": [],
   "source": [
    "fw.tree()"
   ]
  },
  {
   "cell_type": "markdown",
   "metadata": {
    "deletable": false,
    "editable": false,
    "run_control": {
     "frozen": true
    }
   },
   "source": [
    "You should see a configuration tree with two objects that looks like this:\n",
    "\n",
    "![First object tree](.images/validate-first-tree.png)\n",
    "\n",
    "\n",
    "Firewall is the **root** object, and the **parent** of the AddressObject.  The AddressObject is the **child** of the Firewall object.\n",
    "\n",
    "You can see the parameters in an object using the `about()` method."
   ]
  },
  {
   "cell_type": "code",
   "execution_count": null,
   "metadata": {
    "deletable": false,
    "editable": false
   },
   "outputs": [],
   "source": [
    "apache.about()"
   ]
  },
  {
   "cell_type": "markdown",
   "metadata": {
    "deletable": false,
    "editable": false,
    "run_control": {
     "frozen": true
    }
   },
   "source": [
    "Connect to the firewall GUI using the student portal and login. In the firewall GUI, navigate to **Objects -> Address** and notice the ApacheServer object isn't there yet.  That's because the configuration tree we created is in memory in python only. It hasn't been sent to the firewall yet.  Let's do that next."
   ]
  },
  {
   "cell_type": "code",
   "execution_count": null,
   "metadata": {
    "deletable": false,
    "editable": false
   },
   "outputs": [],
   "source": [
    "apache.create()"
   ]
  },
  {
   "cell_type": "markdown",
   "metadata": {
    "deletable": false,
    "editable": false,
    "run_control": {
     "frozen": true
    }
   },
   "source": [
    "Now check the firewall GUI again and click the refresh button (see screenshot) to see the newly created object.\n",
    "\n",
    "![Refresh Button](.images/refresh-button.png)"
   ]
  },
  {
   "cell_type": "markdown",
   "metadata": {
    "deletable": false,
    "editable": false,
    "run_control": {
     "frozen": true
    }
   },
   "source": [
    "## API Reference Documentation\n",
    "\n",
    "The [Device Framwork API Reference](http://pandevice.readthedocs.io) is an invaluable tool when using Device Framework for automation. It gives you information on all the parameters and [relationships between all the objects](http://pandevice.readthedocs.io/en/latest/configtree.html) in the library.\n",
    "\n",
    "You can access the documentation right here from the notebook in two easy ways:\n",
    "\n",
    "**1. In a configuration tree, click one of the objects.** Try this now on the config tree you displayed in the last section above. It will link to the documentation for that object.\n",
    "\n",
    "**2. Press `Shift-Tab` 2 times for pop-up documentation**, or 4 times for a panel with documentation while editing an object in python.  Try this now on the next cell."
   ]
  },
  {
   "cell_type": "code",
   "execution_count": null,
   "metadata": {
    "deletable": false,
    "editable": false
   },
   "outputs": [],
   "source": [
    "# Click on the text 'AddressObject()' on the next line of code\n",
    "# to move the cursor onto it, then press Shift-Tab twice.\n",
    "obj = objects.AddressObject()"
   ]
  },
  {
   "cell_type": "markdown",
   "metadata": {
    "deletable": false,
    "editable": false,
    "run_control": {
     "frozen": true
    },
    "solution2": "hidden",
    "solution2_first": true
   },
   "source": [
    "## Exercise 1: Create an Address Object\n",
    "\n",
    "Create an address object using the techniques you learned in this lesson. You can name it anything you want, but make sure it is an **fqdn type** object with the match **value** `facebook.com`. It should have a **description** of 'Social media'. Once the address object is created in python, use that object to create the address object on the live firewall to complete this exercise. Your answer should have the following steps:\n",
    "\n",
    "1. Import the needed pandevice libraries\n",
    "2. Create a Firewall object with the IP, username, and password of the firewall\n",
    "3. Create an AddressObject\n",
    "4. Add the AddressObject as a child of the Firewall object\n",
    "5. Create the AddressObject on the live firewall\n",
    "\n",
    "Hint: Use the [API Reference Documentation](http://pandevice.readthedocs.io/) or the `Shift-Tab` trick from the last section to figure out how to create an fqdn type address object. Everything you need is in the examples above, so try not to show the solution until you're ready to check your answer."
   ]
  },
  {
   "cell_type": "code",
   "execution_count": null,
   "metadata": {
    "deletable": false,
    "editable": false,
    "run_control": {
     "frozen": true
    },
    "solution2": "hidden"
   },
   "outputs": [],
   "source": [
    "from pandevice import firewall, objects\n",
    "fw = firewall.Firewall('10.30.11.101', 'admin', 'Ignite18')\n",
    "facebook = objects.AddressObject('My-Facebook-object',\n",
    "                                 'facebook.com',\n",
    "                                 type='fqdn',\n",
    "                                 description='Social media')\n",
    "fw.add(facebook)\n",
    "facebook.create()"
   ]
  },
  {
   "cell_type": "code",
   "execution_count": null,
   "metadata": {},
   "outputs": [],
   "source": [
    "# Exercise 1 answer here...\n",
    "\n",
    "\n",
    "\n",
    "\n",
    "\n",
    "\n"
   ]
  },
  {
   "cell_type": "markdown",
   "metadata": {
    "deletable": false,
    "editable": false,
    "run_control": {
     "frozen": true
    }
   },
   "source": [
    "Validate your answer by refreshing the list of addresses in the firewall GUI. Your address object should appear like this:\n",
    "\n",
    "![Valid FQDN Address Object](.images/validate-getting-started.png)"
   ]
  },
  {
   "cell_type": "markdown",
   "metadata": {
    "deletable": false,
    "editable": false,
    "run_control": {
     "frozen": true
    }
   },
   "source": [
    "## Next step\n",
    "\n",
    "You've got the basics, now lets have some fun. Continue to [Lesson 3 - Configure and Commit](Lesson 3 - Configure and Commit.ipynb) to push some complex configuration and commit it."
   ]
  }
 ],
 "metadata": {
  "kernelspec": {
   "display_name": "Python 3",
   "language": "python",
   "name": "python3"
  },
  "language_info": {
   "codemirror_mode": {
    "name": "ipython",
    "version": 3
   },
   "file_extension": ".py",
   "mimetype": "text/x-python",
   "name": "python",
   "nbconvert_exporter": "python",
   "pygments_lexer": "ipython3",
   "version": "3.6.4"
  },
  "varInspector": {
   "cols": {
    "lenName": 16,
    "lenType": 16,
    "lenVar": 40
   },
   "kernels_config": {
    "python": {
     "delete_cmd_postfix": "",
     "delete_cmd_prefix": "del ",
     "library": "var_list.py",
     "varRefreshCmd": "print(var_dic_list())"
    },
    "r": {
     "delete_cmd_postfix": ") ",
     "delete_cmd_prefix": "rm(",
     "library": "var_list.r",
     "varRefreshCmd": "cat(var_dic_list()) "
    }
   },
   "oldHeight": 123,
   "position": {
    "height": "314px",
    "left": "870px",
    "right": "136px",
    "top": "120px",
    "width": "323px"
   },
   "types_to_exclude": [
    "module",
    "function",
    "builtin_function_or_method",
    "instance",
    "_Feature"
   ],
   "varInspector_section_display": "block",
   "window_display": false
  }
 },
 "nbformat": 4,
 "nbformat_minor": 2
}
