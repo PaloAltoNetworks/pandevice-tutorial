{
 "cells": [
  {
   "cell_type": "markdown",
   "metadata": {},
   "source": [
    "# Module 4 - Operational Commands"
   ]
  },
  {
   "cell_type": "markdown",
   "metadata": {
    "cell_style": "center"
   },
   "source": [
    "## Overview\n",
    "\n",
    "In the last section you created an Address object. This is a configuration change you made by creating a config tree in memory that represents what you want, then pushing it to the firewall. We'll do more with configuration in the next module, but for now let's explore other features and tools of Device Framework.\n",
    "\n",
    "Operational commands can be executed on the firewall to get information on the state of the device. Operational commands are sometimes nicknamed as 'show commands' and can be executed on the CLI or the API. Operational commands do not change the configuration.\n",
    "\n",
    "One of the most common operational commands is 'show system info' which gives information about the firewall's hardware platform and software version. Run the following cell to call 'show system info' on the firewall."
   ]
  },
  {
   "cell_type": "code",
   "execution_count": null,
   "metadata": {},
   "outputs": [],
   "source": [
    "# Start by importing the modules and creating a Firewall object\n",
    "from pandevice import firewall\n",
    "fw = firewall.Firewall('10.30.11.101', 'admin', 'Ignite18')"
   ]
  },
  {
   "cell_type": "code",
   "execution_count": null,
   "metadata": {
    "cell_style": "center"
   },
   "outputs": [],
   "source": [
    "# This is the 'fw' variable we created in the last section\n",
    "# The op method called on the firewall invokes an operational command\n",
    "fw.op('show system info')"
   ]
  },
  {
   "cell_type": "markdown",
   "metadata": {},
   "source": [
    "You probably got a response that looks something like this: `<Element 'response' at 0x7f49a84464f8>`\n",
    "\n",
    "What is this? It's an XML response from the firewall but it doesn't look like XML because it's packaged into a python object. Device Framework assumes you'll be looking for something specific in this XML response, so it parses the XML for you and returns it as an Element object. An Element object is part of the python standard [ElementTree library](https://docs.python.org/3/library/xml.etree.elementtree.html).\n",
    "\n",
    "If you know the structure of the XML response and where the thing you're looking for is, you can find it with an XPath:"
   ]
  },
  {
   "cell_type": "code",
   "execution_count": null,
   "metadata": {},
   "outputs": [],
   "source": [
    "# First, call the op command and store the Element response\n",
    "element_response = fw.op('show system info')"
   ]
  },
  {
   "cell_type": "code",
   "execution_count": null,
   "metadata": {},
   "outputs": [],
   "source": [
    "# Now, find the XPath for the firewall's hostname in the XML and get its text\n",
    "element_response.find('./result/system/hostname').text"
   ]
  },
  {
   "cell_type": "code",
   "execution_count": null,
   "metadata": {},
   "outputs": [],
   "source": [
    "# Same for the management IP of the firewall, also part of 'show system info'\n",
    "element_response.find('./result/system/ip-address').text"
   ]
  },
  {
   "cell_type": "markdown",
   "metadata": {},
   "source": [
    "## Response as XML\n",
    "\n",
    "If you want to see the whole XML response, import the ElementTree library and turn the Element object into an XML string using its `tostring()` method:"
   ]
  },
  {
   "cell_type": "code",
   "execution_count": null,
   "metadata": {},
   "outputs": [],
   "source": [
    "import xml.etree.ElementTree as ET\n",
    "ET.tostring(fw.op('show system info'))"
   ]
  },
  {
   "cell_type": "markdown",
   "metadata": {
    "cell_style": "center"
   },
   "source": [
    "## Operational Convenience Methods\n",
    "\n",
    "Some operational commands like 'show system info' are so commonly used that Device Framework has convenience methods for them. The conveniance method for 'show system info' is `refresh_system_info()`.\n",
    "\n",
    "This method doesn't just pull the system info, it stores some of the relevant information in the Firewall object.  Let's try it:"
   ]
  },
  {
   "cell_type": "code",
   "execution_count": null,
   "metadata": {},
   "outputs": [],
   "source": [
    "# This will return None for each variable because they are not known yet\n",
    "(fw.version, fw.platform, fw.serial)"
   ]
  },
  {
   "cell_type": "code",
   "execution_count": null,
   "metadata": {},
   "outputs": [],
   "source": [
    "fw.refresh_system_info();"
   ]
  },
  {
   "cell_type": "code",
   "execution_count": null,
   "metadata": {},
   "outputs": [],
   "source": [
    "(fw.version, fw.platform, fw.serial)"
   ]
  },
  {
   "cell_type": "markdown",
   "metadata": {
    "cell_style": "center"
   },
   "source": [
    "Notice that before `refresh_system_info()` the variables are `None`, but after `refresh_system_info()` the variables are populated with the current state of the firewall. The word **refresh** has a special meaning in Device Framework: pull information from the live device and store it in the object. In this case, system info is pulled from the live firewall and stored in the Firewall object."
   ]
  }
 ],
 "metadata": {
  "kernelspec": {
   "display_name": "Python 3",
   "language": "python",
   "name": "python3"
  },
  "language_info": {
   "codemirror_mode": {
    "name": "ipython",
    "version": 3
   },
   "file_extension": ".py",
   "mimetype": "text/x-python",
   "name": "python",
   "nbconvert_exporter": "python",
   "pygments_lexer": "ipython3",
   "version": "3.6.4"
  },
  "varInspector": {
   "cols": {
    "lenName": 16,
    "lenType": 16,
    "lenVar": 40
   },
   "kernels_config": {
    "python": {
     "delete_cmd_postfix": "",
     "delete_cmd_prefix": "del ",
     "library": "var_list.py",
     "varRefreshCmd": "print(var_dic_list())"
    },
    "r": {
     "delete_cmd_postfix": ") ",
     "delete_cmd_prefix": "rm(",
     "library": "var_list.r",
     "varRefreshCmd": "cat(var_dic_list()) "
    }
   },
   "oldHeight": 123,
   "position": {
    "height": "314px",
    "left": "895px",
    "right": "101px",
    "top": "138px",
    "width": "323px"
   },
   "types_to_exclude": [
    "module",
    "function",
    "builtin_function_or_method",
    "instance",
    "_Feature"
   ],
   "varInspector_section_display": "block",
   "window_display": false
  }
 },
 "nbformat": 4,
 "nbformat_minor": 2
}
