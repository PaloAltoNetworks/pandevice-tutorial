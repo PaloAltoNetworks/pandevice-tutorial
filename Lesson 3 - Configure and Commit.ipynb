{
 "cells": [
  {
   "cell_type": "markdown",
   "metadata": {
    "deletable": false,
    "editable": false,
    "run_control": {
     "frozen": true
    }
   },
   "source": [
    "# Lesson 3 - Configure and Commit"
   ]
  },
  {
   "cell_type": "markdown",
   "metadata": {
    "deletable": false,
    "editable": false,
    "run_control": {
     "frozen": true
    }
   },
   "source": [
    "## Live Methods\n",
    "\n",
    "In the last lesson you learned to add objects to a configuration tree and \"create\" them on the firewall using the `create()` method. In this lesson we'll dig into more complex configurations like security policy and interfaces.\n",
    "\n",
    "First, lets introduce the Live Methods.  Like `create()` the Live Methods are any method that touches the live device.  Device Framework allows you to create a complete configuration in memory before ever touching a live firewall or Panorama. When you want to make the changes on the live device, you use the Live Methods:\n",
    "\n",
    "| Live Method      | Description                                                                        |\n",
    "|------------------|------------------------------------------------------------------------------------|\n",
    "| apply            | Change the object on the live device (or create if it doesn't exist)               |\n",
    "| create           | Create an object on the live device (or merge if it already exists)                |\n",
    "| delete           | Delete the object on the live device                                               |\n",
    "| update           | Update a single parameter of an object on the live device                          |\n",
    "| refresh          | Pull the current state of an object from the live device                           |\n",
    "| refreshall       | Create objects in python to represent all the objects of a type on the live device |\n",
    "| refresh_variable | Pull the current state of a single parameter of an object from the live device     |\n",
    "\n",
    "The \"refresh\" methods above pull configuration from the live device into the python configuration tree.  The other methods push configuration from the python configuration tree to the live device. The live methods we we'll focus on for this lab are:\n",
    "\n",
    "- apply\n",
    "- create\n",
    "- delete\n",
    "- refresh\n",
    "- refreshall"
   ]
  },
  {
   "cell_type": "markdown",
   "metadata": {
    "deletable": false,
    "editable": false,
    "run_control": {
     "frozen": true
    }
   },
   "source": [
    "## Create objects\n",
    "\n",
    "Let's give some of these Live Methods a try by creating 2 ethernet interfaces:"
   ]
  },
  {
   "cell_type": "code",
   "execution_count": null,
   "metadata": {
    "deletable": false,
    "editable": false
   },
   "outputs": [],
   "source": [
    "# First, import the needed modules and create a Firewall object to work with\n",
    "from pandevice import firewall, objects, network\n",
    "fw = firewall.Firewall('10.30.11.101', 'admin', 'Ignite18')"
   ]
  },
  {
   "cell_type": "code",
   "execution_count": null,
   "metadata": {
    "deletable": false,
    "editable": false
   },
   "outputs": [],
   "source": [
    "# Then, create 2 ethernet interfaces and add them to the config tree\n",
    "eth3 = network.EthernetInterface('ethernet1/3', ip='10.0.0.101', comment='Connects to Switch1')\n",
    "eth4 = network.EthernetInterface('ethernet1/4', ip='10.0.0.102')\n",
    "fw.add(eth3)\n",
    "fw.add(eth4)"
   ]
  },
  {
   "cell_type": "code",
   "execution_count": null,
   "metadata": {
    "deletable": false,
    "editable": false
   },
   "outputs": [],
   "source": [
    "# Lets display the tree to see what we have so far\n",
    "fw.tree()"
   ]
  },
  {
   "cell_type": "code",
   "execution_count": null,
   "metadata": {
    "deletable": false,
    "editable": false
   },
   "outputs": [],
   "source": [
    "# Last, push the ethernet interfaces to the live firewall one at a time\n",
    "# (you can push them all in bulk, but we'll cover that in another lesson)\n",
    "eth3.create()\n",
    "eth4.apply()"
   ]
  },
  {
   "cell_type": "markdown",
   "metadata": {
    "deletable": false,
    "editable": false,
    "run_control": {
     "frozen": true
    }
   },
   "source": [
    "Check the firewall GUI to verify the ethernet interfaces were created (**Network tab -> Interfaces**). Notice that we used `create()` and `apply()` to create the ethernet interfaces. This was to demonstrate that when an object doesn't exist on the live device yet, these methods have the same behavior. They both create the object on the firewall."
   ]
  },
  {
   "cell_type": "markdown",
   "metadata": {
    "deletable": false,
    "editable": false,
    "run_control": {
     "frozen": true
    }
   },
   "source": [
    "## Modify objects\n",
    "\n",
    "When an object already exists on the firewall, `create()` and `apply()` will behave differently.  The `create()` method will merge the object in memory with the object on the live device, non-destructively. It only \"creates\" configuration, never removes it. The `apply()` method will make the object on the live device match the object in memory exactly.\n",
    "\n",
    "Objects have parameters, like `ip`, `description`, or `comment`. The difference between `apply()` and `create()` is clear when you remove a parameter from an object. To remove a parameter, set the parameters value to `None`. Then an `apply()` on the object would remove the parameter from the live device, while a `create()` would not.\n",
    "\n",
    "It is generally safest to use `apply()` when you don't know if an object exists or not on the live device because `create()` could leave leftover parameters in the object on the live device."
   ]
  },
  {
   "cell_type": "markdown",
   "metadata": {
    "deletable": false,
    "editable": false,
    "run_control": {
     "frozen": true
    },
    "solution2": "hidden",
    "solution2_first": true
   },
   "source": [
    "## Exercise 1: Modify an ethernet interface\n",
    "\n",
    "We created `eth3` in the last section. For this exercise, you'll make a couple changes to `eth3`.\n",
    "\n",
    "Change the **IP** of `eth3` to 10.0.0.103 and remove its **comment** parameter. Use `eth3.about()` in the yellow cell to validate the parameters of `eth3`. When you're satisfied with your changes in the python object, push the changes to the live device using the appropriate cell below (the one after the yellow `eth3.about()` cell).\n",
    "\n",
    "**Remember, `eth3` already exists in python and the live firewall. Use the `eth3` variable created above in the examples. You don't need to create a new Firewall object or import pandevice in this exercise since that was already done earlier.**"
   ]
  },
  {
   "cell_type": "code",
   "execution_count": null,
   "metadata": {
    "deletable": false,
    "editable": false,
    "run_control": {
     "frozen": true
    },
    "solution2": "hidden"
   },
   "outputs": [],
   "source": [
    "# make changes in python memory\n",
    "eth3.ip = '10.0.0.103'\n",
    "eth3.comment = None\n",
    "\n",
    "# use about to check your work\n",
    "eth3.about\n",
    "\n",
    "# then apply the changes to the live firewall\n",
    "eth3.apply()"
   ]
  },
  {
   "cell_type": "code",
   "execution_count": null,
   "metadata": {},
   "outputs": [],
   "source": [
    "# Exercise 1: modify eth3 here...\n",
    "\n",
    "\n"
   ]
  },
  {
   "cell_type": "code",
   "execution_count": null,
   "metadata": {
    "deletable": false,
    "editable": false
   },
   "outputs": [],
   "source": [
    "# Use this to validate the parameters of eth3\n",
    "eth3.about()"
   ]
  },
  {
   "cell_type": "markdown",
   "metadata": {
    "deletable": false,
    "editable": false,
    "run_control": {
     "frozen": true
    }
   },
   "source": [
    "Use `eth3.about()` in the previous cell to validate your EthernetInterface object before sending it to the firewall. In the next cell, push the changes to the live firewall."
   ]
  },
  {
   "cell_type": "code",
   "execution_count": null,
   "metadata": {},
   "outputs": [],
   "source": [
    "# Exercise 1: push changes to the live firewall here...\n"
   ]
  },
  {
   "cell_type": "markdown",
   "metadata": {
    "deletable": false,
    "editable": false,
    "run_control": {
     "frozen": true
    }
   },
   "source": [
    "**Validate** your answer using the firewall GUI to see that your changes took effect on the live firewall."
   ]
  },
  {
   "cell_type": "markdown",
   "metadata": {
    "deletable": false,
    "editable": false,
    "run_control": {
     "frozen": true
    },
    "solution2": "hidden",
    "solution2_first": true
   },
   "source": [
    "## Exercise 2: Delete an ethernet interface\n",
    "\n",
    "Delete `eth4` from the firewall. Use the firewall GUI to verify the delete worked.\n",
    "\n",
    "\n",
    "**Once again, use the existing `eth4` variable created in the examples above. You don't need to create a new Firewall object or import pandevice in this exercise since that was already done earlier.**\n",
    "\n",
    "Hint: The solution to this exercise fits in one line. You won't need `apply()` for this, you'll need a different live method."
   ]
  },
  {
   "cell_type": "code",
   "execution_count": null,
   "metadata": {
    "deletable": false,
    "editable": false,
    "run_control": {
     "frozen": true
    },
    "solution2": "hidden"
   },
   "outputs": [],
   "source": [
    "eth4.delete()"
   ]
  },
  {
   "cell_type": "code",
   "execution_count": null,
   "metadata": {},
   "outputs": [],
   "source": [
    "# Exercise 2 answer here...\n"
   ]
  },
  {
   "cell_type": "markdown",
   "metadata": {
    "deletable": false,
    "editable": false,
    "run_control": {
     "frozen": true
    }
   },
   "source": [
    "Validate your answer by checking the configuration tree. The ethernet interface called `ethernet1/4` should be gone."
   ]
  },
  {
   "cell_type": "code",
   "execution_count": null,
   "metadata": {
    "deletable": false,
    "editable": false
   },
   "outputs": [],
   "source": [
    "fw.tree()"
   ]
  },
  {
   "cell_type": "markdown",
   "metadata": {
    "deletable": false,
    "editable": false,
    "run_control": {
     "frozen": true
    }
   },
   "source": [
    "Notice from the config tree that `eth4` wasn't just removed from the firewall, it was removed from the configuration tree.  It still exists in memory (you can see it with `eth4.about()`, but it won't be part of the config tree unless you `add()` it back in."
   ]
  },
  {
   "cell_type": "markdown",
   "metadata": {
    "deletable": false,
    "editable": false,
    "run_control": {
     "frozen": true
    }
   },
   "source": [
    "## References\n",
    "\n",
    "Objects can reference other objects, such as an address group that groups address objects together. The address group references the address objects. To create a reference in Device Framework, pass in the object being referenced or the name of the object being reference, either works.\n",
    "\n",
    "This example creates an AddressGroup that groups (references) two AddressObjects:"
   ]
  },
  {
   "cell_type": "code",
   "execution_count": null,
   "metadata": {
    "deletable": false,
    "editable": false
   },
   "outputs": [],
   "source": [
    "# Create two address objects and add them to the tree\n",
    "obj1 = objects.AddressObject('MyServer1', '10.1.1.1')\n",
    "fw.add(obj1)\n",
    "\n",
    "# We'll use a shorthand for this one to create the\n",
    "# AddressObject and add it to the tree in one step.\n",
    "obj2 = fw.add(objects.AddressObject('MyServer2', '10.0.0.2'))\n",
    "\n",
    "# And check the tree\n",
    "fw.tree()"
   ]
  },
  {
   "cell_type": "code",
   "execution_count": null,
   "metadata": {
    "deletable": false,
    "editable": false
   },
   "outputs": [],
   "source": [
    "# Apply the AddressObjects to the live firewall\n",
    "obj1.apply()\n",
    "obj2.apply()"
   ]
  },
  {
   "cell_type": "code",
   "execution_count": null,
   "metadata": {
    "deletable": false,
    "editable": false
   },
   "outputs": [],
   "source": [
    "# Now create an AddressGroup to group the AddressObjects.\n",
    "group1 = objects.AddressGroup('MyServers', [obj1, obj2])\n",
    "fw.add(group1)\n",
    "group1.apply()"
   ]
  },
  {
   "cell_type": "markdown",
   "metadata": {
    "deletable": false,
    "editable": false,
    "run_control": {
     "frozen": true
    }
   },
   "source": [
    "In this example, we passed a list containing the two address objects to the AddressGroup. We could also have passed a list of names of the objects: `['MyServer1', 'MyServer2']`\n",
    "\n",
    "Verify the address group was created in the firewall GUI under **Objects -> Address Groups**."
   ]
  },
  {
   "cell_type": "markdown",
   "metadata": {
    "deletable": false,
    "editable": false,
    "run_control": {
     "frozen": true
    }
   },
   "source": [
    "## Refresh\n",
    "\n",
    "At the beginning of this lesson there was a table of Live Methods which included several \"refresh\" methods. The methods we've used so far have all pushed configuration to the live firewall, but what if we want to pull configuration from the live firewall into the python configuration tree? That's what the \"refresh\" methods are for.\n",
    "\n",
    "The `refreshall()` method is very useful because it pulls all the object of a type from the live firewall. You may have noticed in the firewall GUI there are more ethernet interfaces on the firewall that the ones we created. So why don't those interfaces show up in our configuration tree? The tree was built by you using `add()` so it isn't aware of the interfaces previously on the firewall. This separation allows you limit the scope of your changes. But many times we want all the objects from a firewall so we know the full context of our changes, so we'll refresh our configuration tree with all the ethernet interfaces from the firewall.\n",
    "\n",
    "First, we'll remove `eth3` from the Firewall object. This doesn't delete it from the live firewall (you would call `delete()` to do that). It just removes it from the configuration tree so we don't have any EthernetInterface objects in the tree."
   ]
  },
  {
   "cell_type": "code",
   "execution_count": null,
   "metadata": {
    "deletable": false,
    "editable": false
   },
   "outputs": [],
   "source": [
    "fw.remove(eth3)\n",
    "fw.tree()"
   ]
  },
  {
   "cell_type": "markdown",
   "metadata": {
    "deletable": false,
    "editable": false,
    "run_control": {
     "frozen": true
    }
   },
   "source": [
    "You can see from the `tree()` method that our Firewall has no EthernetInterface child objects. This time, instead of creating the child objects yourself, you'll create the child objects from the live device. Because the `refreshall()` method creates new objects, you can't call it on any specific object. Call the `refreshall()` method on the **type** of object you want to refresh, and pass in the **parent** object as an argument (in this case, the Firewall object)."
   ]
  },
  {
   "cell_type": "code",
   "execution_count": null,
   "metadata": {
    "deletable": false,
    "editable": false
   },
   "outputs": [],
   "source": [
    "network.EthernetInterface.refreshall(fw)"
   ]
  },
  {
   "cell_type": "markdown",
   "metadata": {
    "deletable": false,
    "editable": false,
    "run_control": {
     "frozen": true
    }
   },
   "source": [
    "The method returns a list of the objects pulled from the firewall, and also adds the objects as children of the parent object you passed in (the Firewall).\n",
    "\n",
    "Verify this with the `tree()` method."
   ]
  },
  {
   "cell_type": "code",
   "execution_count": null,
   "metadata": {
    "deletable": false,
    "editable": false
   },
   "outputs": [],
   "source": [
    "fw.tree()"
   ]
  },
  {
   "cell_type": "markdown",
   "metadata": {
    "deletable": false,
    "editable": false,
    "run_control": {
     "frozen": true
    }
   },
   "source": [
    "You can also access the children of any node."
   ]
  },
  {
   "cell_type": "code",
   "execution_count": null,
   "metadata": {
    "deletable": false,
    "editable": false
   },
   "outputs": [],
   "source": [
    "fw.children"
   ]
  },
  {
   "cell_type": "markdown",
   "metadata": {
    "deletable": false,
    "editable": false,
    "run_control": {
     "frozen": true
    }
   },
   "source": [
    "In this case the children are the same list of EthernetInterfaces that was returned by the `refreshall()` method plus any children that were already there.\n",
    "\n",
    "You can find a specific child by name with the `find()` method:"
   ]
  },
  {
   "cell_type": "code",
   "execution_count": null,
   "metadata": {
    "deletable": false,
    "editable": false
   },
   "outputs": [],
   "source": [
    "eth3 = fw.find('ethernet1/3')\n",
    "eth3.ip"
   ]
  },
  {
   "cell_type": "markdown",
   "metadata": {
    "deletable": false,
    "editable": false,
    "run_control": {
     "frozen": true
    },
    "solution2": "hidden",
    "solution2_first": true
   },
   "source": [
    "## Exercise 3: Refresh All Security Policies\n",
    "\n",
    "Refresh all the current security policies from the live firewall. This isn't quite like refreshing all EthernetInterfaces because there is an intermediate object call `Rulebase`. Check out the [Firewall Config Tree Diagram](http://pandevice.readthedocs.io/en/latest/configtree.html#firewall) and you'll see that a Rulebase can be added to a Firewall object, but a SecurityRule cannot. In the [Policy Config Tree](http://pandevice.readthedocs.io/en/latest/configtree.html#firewall) it shows that a NatRule and SecurityRule can be a child of a Rulebase.\n",
    "\n",
    "So here's the steps you'll need to take:\n",
    "\n",
    "1. Import the 'policies' module from pandevice\n",
    "2. Create a `policies.Rulebase` object and add it as a child of `fw`\n",
    "3. Call `refreshall()` on `policies.SecurityRule`, with the rulebase you created as an argument"
   ]
  },
  {
   "cell_type": "code",
   "execution_count": null,
   "metadata": {
    "deletable": false,
    "editable": false,
    "run_control": {
     "frozen": true
    },
    "solution2": "hidden"
   },
   "outputs": [],
   "source": [
    "from pandevice import policies\n",
    "rulebase = fw.add(policies.Rulebase())\n",
    "policies.SecurityRule.refreshall(rulebase)"
   ]
  },
  {
   "cell_type": "code",
   "execution_count": null,
   "metadata": {},
   "outputs": [],
   "source": [
    "# Exercise 3 answer here...\n"
   ]
  },
  {
   "cell_type": "code",
   "execution_count": null,
   "metadata": {
    "deletable": false,
    "editable": false
   },
   "outputs": [],
   "source": [
    "fw.tree()"
   ]
  },
  {
   "cell_type": "markdown",
   "metadata": {
    "deletable": false,
    "editable": false,
    "run_control": {
     "frozen": true
    }
   },
   "source": [
    "**Verify** your answer using `fw.tree`.  You should see a Rulebase object with two SecurityRule children objects."
   ]
  },
  {
   "cell_type": "markdown",
   "metadata": {
    "deletable": false,
    "editable": false,
    "run_control": {
     "frozen": true
    }
   },
   "source": [
    "## Commit\n",
    "\n",
    "We've made a lot of changes, and none of them will take effect until they're committed. So lets run a commit.\n",
    "\n",
    "Commit is an asynchronous operation, meaning when you request a commit the firewall starts a job that could take some time and shouldn't block other simultaneous operations. So the main thing to consider when committing from Device Framework is if your python program should wait for the commit to finish before continuing. This is called a synchronous commit because it stops the python program until the commit finishes.\n",
    "\n",
    "- **Asynchronous commit:** Continue to the next python command without waiting (default)\n",
    "- **Synchronous commit:** Stop and wait for the commit to finish, then get the result of the commit and continue\n",
    "\n",
    "Commits are executed by calling the `commit()` method on a Firewall or Panorama object. To wait for the commit to finish and return the result (synchronous commit) pass in the `sync` argument: `commit(sync=True)`.\n",
    "\n",
    "Perform a synchronous commit of our changes from this lesson. Because we are waiting for the commit to finish, you will see a `[*]` to the left of the command while the commit is running. You can monitor the progress of the commit in the firewall GUI in the **Tasks** menu (bottom right)."
   ]
  },
  {
   "cell_type": "code",
   "execution_count": null,
   "metadata": {
    "deletable": false,
    "editable": false
   },
   "outputs": [],
   "source": [
    "fw.commit(sync=True)"
   ]
  },
  {
   "cell_type": "markdown",
   "metadata": {
    "deletable": false,
    "editable": false,
    "run_control": {
     "frozen": true
    }
   },
   "source": [
    "When the commit finishes you'll see a 'success' boolean and any errors or warnings from the commit. You'll likely have a couple warnings about 'ethernet1/3' because we never set the zone or virtual-router for that interface after we created it.\n",
    "\n",
    "For extra-credit, configure a Zone object and VirtualRouter object and reference the 'ethernet1/3' EthernetInterface object to resolve these warnings.\n",
    "\n",
    "Or continue on to [Lesson 4 - User-ID](Lesson 4 - User-ID.ipynb)"
   ]
  }
 ],
 "metadata": {
  "kernelspec": {
   "display_name": "Python 3",
   "language": "python",
   "name": "python3"
  },
  "language_info": {
   "codemirror_mode": {
    "name": "ipython",
    "version": 3
   },
   "file_extension": ".py",
   "mimetype": "text/x-python",
   "name": "python",
   "nbconvert_exporter": "python",
   "pygments_lexer": "ipython3",
   "version": "3.6.4"
  },
  "varInspector": {
   "cols": {
    "lenName": 16,
    "lenType": 16,
    "lenVar": 40
   },
   "kernels_config": {
    "python": {
     "delete_cmd_postfix": "",
     "delete_cmd_prefix": "del ",
     "library": "var_list.py",
     "varRefreshCmd": "print(var_dic_list())"
    },
    "r": {
     "delete_cmd_postfix": ") ",
     "delete_cmd_prefix": "rm(",
     "library": "var_list.r",
     "varRefreshCmd": "cat(var_dic_list()) "
    }
   },
   "types_to_exclude": [
    "module",
    "function",
    "builtin_function_or_method",
    "instance",
    "_Feature"
   ],
   "window_display": false
  }
 },
 "nbformat": 4,
 "nbformat_minor": 2
}
