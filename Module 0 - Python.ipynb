{
 "cells": [
  {
   "cell_type": "markdown",
   "metadata": {},
   "source": [
    "# Welcome to the Device Framework Lab"
   ]
  },
  {
   "cell_type": "markdown",
   "metadata": {},
   "source": [
    "The Palo Alto Networks **Device Framework** is is a powerful tool to create automations and interactions with PAN-OS devices including Next-generation Firewalls and Panorama. It is a **python library** intended to be simple enough for non-programmers to use to **create complex and sophisticated automations** that leverage the PAN-OS API. The Device Framework offers an **object-oriented model** of the firewall and Panorama configuration to provide an automation framework that is conceptually similar to interaction with the device via the GUI or CLI. Available on PyPi and GitHub, it is easy to get started and create fully custom automation scripts.\n",
    "\n",
    "This lab will teach you the basics of working with the Device Framework. It is hosted in **Jupyter Notebooks**, a tool commonly used for scientific computing with python, but today you'll use it to run python commands directly from the lab itself.\n",
    "\n",
    "You should have a basic understanding of python before starting this lab."
   ]
  },
  {
   "cell_type": "markdown",
   "metadata": {},
   "source": [
    "## Jupyter Notebooks"
   ]
  },
  {
   "cell_type": "markdown",
   "metadata": {},
   "source": [
    "You'll need to know a couple quick tricks to use Jupyter Notebooks. Don't worry, it's easy to use.\n",
    "\n",
    "1. How to run code\n",
    "2. How to reset everything\n",
    "3. How to switch notebooks"
   ]
  },
  {
   "cell_type": "markdown",
   "metadata": {},
   "source": [
    "### How to run code"
   ]
  },
  {
   "cell_type": "markdown",
   "metadata": {},
   "source": [
    "To run a code cell, select it, then use Shift-Enter or press the <button class='btn btn-default btn-xs'><i class=\"icon-step-forward fa fa-step-forward\"></i></button> **Run** button in the toolbar above. Select the next cell and try running it. You should get a result of `4`."
   ]
  },
  {
   "cell_type": "code",
   "execution_count": null,
   "metadata": {},
   "outputs": [],
   "source": [
    "2 + 2"
   ]
  },
  {
   "cell_type": "markdown",
   "metadata": {},
   "source": [
    "- While a cell is running, a `[*]` will display on the left.\n",
    "- When a cell has yet to be executed, `[ ]` will display.\n",
    "- When it has been run, a number will display indicating the order in which it was run during the execution of the notebook.\n",
    "\n",
    "**IMPORTANT:** The order of the code in the notebook is not necessarily the order in which it was run. This can be a little confusing sometimes, so if you get stuck, just reset the notebook and run things in order. You won't lose any code when you reset.\n"
   ]
  },
  {
   "cell_type": "markdown",
   "metadata": {},
   "source": [
    "### How to reset everything"
   ]
  },
  {
   "cell_type": "markdown",
   "metadata": {},
   "source": [
    "If you get stuck, confused, or just want to try a notebook again from the beginning, navigate to **Kernel** -> **Restart & Clear Output** to reset python, clearning out all variables and imports."
   ]
  },
  {
   "cell_type": "markdown",
   "metadata": {},
   "source": [
    "### How to switch notebooks"
   ]
  },
  {
   "cell_type": "markdown",
   "metadata": {},
   "source": [
    "Click the Save button on the left of the toolbar, or navigate to **File** -> **Save and Checkpoint**\n",
    "\n",
    "Then navigate to **File** -> **Close and Halt** and pick another notebook."
   ]
  },
  {
   "cell_type": "markdown",
   "metadata": {},
   "source": [
    "## Install the needed libraries"
   ]
  },
  {
   "cell_type": "markdown",
   "metadata": {},
   "source": [
    "Before you can use Device Framework, you'll need to install it using pip. This is how you would install Device Framework on your own server or laptop."
   ]
  },
  {
   "cell_type": "code",
   "execution_count": 1,
   "metadata": {},
   "outputs": [
    {
     "name": "stdout",
     "output_type": "stream",
     "text": [
      "Collecting pandevice\n",
      "\u001b[?25l  Downloading https://files.pythonhosted.org/packages/b7/8b/2a6f8cf944471d02996df15f230a4eb950a33303c99ae0bb106d3fed8b94/pandevice-0.6.1.tar.gz (124kB)\n",
      "\u001b[K    100% |████████████████████████████████| 133kB 3.3MB/s ta 0:00:01\n",
      "\u001b[?25hCollecting pan-python (from pandevice)\n",
      "\u001b[?25l  Downloading https://files.pythonhosted.org/packages/c3/6c/fb9cb7551f37a721551753d424a4bf5fd70159ed3d5fd468d2ae3fff058f/pan-python-0.13.0.tar.gz (120kB)\n",
      "\u001b[K    93% |█████████████████████████████▉  | 112kB 10.2MB/s eta 0:00:01    100% |████████████████████████████████| 122kB 9.1MB/s \n",
      "\u001b[?25hBuilding wheels for collected packages: pandevice, pan-python\n",
      "  Running setup.py bdist_wheel for pandevice ... \u001b[?25ldone\n",
      "\u001b[?25h  Stored in directory: /home/jovyan/.cache/pip/wheels/fe/94/66/1aa07486f6ae6a45dfcbba3593bf4b46bde1f71612ddf39c47\n",
      "  Running setup.py bdist_wheel for pan-python ... \u001b[?25ldone\n",
      "\u001b[?25h  Stored in directory: /home/jovyan/.cache/pip/wheels/ba/34/01/e8e35dc70f37a9c22c32b2ed7cdba384925aa10a8ebe32e452\n",
      "Successfully built pandevice pan-python\n",
      "Installing collected packages: pan-python, pandevice\n",
      "Successfully installed pan-python-0.13.0 pandevice-0.6.1\n"
     ]
    }
   ],
   "source": [
    "!pip install pandevice"
   ]
  },
  {
   "cell_type": "markdown",
   "metadata": {},
   "source": [
    "You should see a line near the bottom of the output that says:\n",
    "\n",
    "    Successfully installed pan-python-0.13.0 pandevice-0.6.1\n",
    "\n",
    "Or a message that it is already installed.\n",
    "\n",
    "**pandevice** is the name of the Device Framwork library in python.  **pan-python** is a requirement of pandevice."
   ]
  },
  {
   "cell_type": "markdown",
   "metadata": {},
   "source": [
    "We also need graphviz to show our configuration trees (more on this later).  Install graphviz the same way you installed pandevice. (This is not usually necessary on your own server or laptop, it's just for use in our Jupyter Notebooks)"
   ]
  },
  {
   "cell_type": "code",
   "execution_count": 2,
   "metadata": {},
   "outputs": [
    {
     "name": "stdout",
     "output_type": "stream",
     "text": [
      "Collecting graphviz\n",
      "  Downloading https://files.pythonhosted.org/packages/84/44/21a7fdd50841aaaef224b943f7d10df87e476e181bb926ccf859bcb53d48/graphviz-0.8.3-py2.py3-none-any.whl\n",
      "Installing collected packages: graphviz\n",
      "Successfully installed graphviz-0.8.3\n"
     ]
    }
   ],
   "source": [
    "!pip install graphviz"
   ]
  },
  {
   "cell_type": "markdown",
   "metadata": {},
   "source": [
    "## Install the lab notebooks"
   ]
  },
  {
   "cell_type": "code",
   "execution_count": 4,
   "metadata": {},
   "outputs": [
    {
     "name": "stdout",
     "output_type": "stream",
     "text": [
      "/opt/conda/bin:/opt/conda/bin:/usr/local/sbin:/usr/local/bin:/usr/sbin:/usr/bin:/sbin:/bin\r\n"
     ]
    }
   ],
   "source": [
    "!echo $PATH"
   ]
  },
  {
   "cell_type": "code",
   "execution_count": 18,
   "metadata": {},
   "outputs": [
    {
     "name": "stdout",
     "output_type": "stream",
     "text": [
      "/opt/conda/lib/node_modules/npm/node_modules/request/node_modules/har-validator/node_modules/ajv/lib/dot\n",
      "/opt/conda/pkgs/nodejs-8.10.0-0/lib/node_modules/npm/node_modules/request/node_modules/har-validator/node_modules/ajv/lib/dot\n",
      "find: ‘/root’: Permission denied\n",
      "find: ‘/var/cache/ldconfig’: Permission denied\n",
      "find: ‘/var/cache/apt/archives/partial’: Permission denied\n",
      "find: ‘/proc/tty/driver’: Permission denied\n",
      "find: ‘/etc/ssl/private’: Permission denied\n"
     ]
    }
   ],
   "source": [
    "!find / | grep -E \"/dot$\""
   ]
  },
  {
   "cell_type": "code",
   "execution_count": 19,
   "metadata": {},
   "outputs": [
    {
     "name": "stdout",
     "output_type": "stream",
     "text": [
      "/bin/sh: 1: /opt/conda/lib/node_modules/npm/node_modules/request/node_modules/har-validator/node_modules/ajv/lib/dot: Permission denied\r\n"
     ]
    }
   ],
   "source": [
    "!/opt/conda/lib/node_modules/npm/node_modules/request/node_modules/har-validator/node_modules/ajv/lib/dot"
   ]
  },
  {
   "cell_type": "code",
   "execution_count": 21,
   "metadata": {},
   "outputs": [
    {
     "name": "stdout",
     "output_type": "stream",
     "text": [
      "E: Could not open lock file /var/lib/dpkg/lock - open (13: Permission denied)\r\n",
      "E: Unable to lock the administration directory (/var/lib/dpkg/), are you root?\r\n"
     ]
    }
   ],
   "source": [
    "!apt-get install graphviz"
   ]
  },
  {
   "cell_type": "code",
   "execution_count": null,
   "metadata": {},
   "outputs": [],
   "source": []
  }
 ],
 "metadata": {
  "kernelspec": {
   "display_name": "Python 3",
   "language": "python",
   "name": "python3"
  },
  "language_info": {
   "codemirror_mode": {
    "name": "ipython",
    "version": 3
   },
   "file_extension": ".py",
   "mimetype": "text/x-python",
   "name": "python",
   "nbconvert_exporter": "python",
   "pygments_lexer": "ipython3",
   "version": "3.6.4"
  }
 },
 "nbformat": 4,
 "nbformat_minor": 2
}
