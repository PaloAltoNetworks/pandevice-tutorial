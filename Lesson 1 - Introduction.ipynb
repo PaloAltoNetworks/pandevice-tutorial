{
 "cells": [
  {
   "cell_type": "markdown",
   "metadata": {
    "deletable": false,
    "editable": false,
    "run_control": {
     "frozen": true
    }
   },
   "source": [
    "# Welcome to the Device Framework Lab"
   ]
  },
  {
   "cell_type": "markdown",
   "metadata": {
    "deletable": false,
    "editable": false,
    "run_control": {
     "frozen": true
    }
   },
   "source": [
    "The Palo Alto Networks **Device Framework** is is a powerful tool to create automations and interactions with PAN-OS devices including Next-generation Firewalls and Panorama. It is a **python library** intended to be simple enough for non-programmers to use to **create complex and sophisticated automations** that leverage the PAN-OS API. The Device Framework offers an **object-oriented model** of the firewall and Panorama configuration to provide an automation framework that is conceptually similar to interaction with the device via the GUI or CLI. Available on PyPi and GitHub, it is easy to get started and create fully custom automation scripts.\n",
    "\n",
    "This lab will teach you the basics of working with the Device Framework. It is hosted in **Jupyter Notebooks**, a tool commonly used for scientific computing with python, but today you'll use it to run python commands directly from the lab itself."
   ]
  },
  {
   "cell_type": "markdown",
   "metadata": {
    "deletable": false,
    "editable": false,
    "run_control": {
     "frozen": true
    }
   },
   "source": [
    "## Prerequisites\n",
    "\n",
    "- You should have a beginner-level understanding of Python\n",
    "- You should have familiarity with the Palo Alto Networks firewall and Panorama"
   ]
  },
  {
   "cell_type": "markdown",
   "metadata": {
    "deletable": false,
    "editable": false,
    "run_control": {
     "frozen": true
    }
   },
   "source": [
    "## How to use Jupyter Notebooks\n",
    "\n",
    "You'll need to know a few quick tricks to use Jupyter Notebooks. Don't worry, it's easy to use.\n",
    "\n",
    "1. How to run code\n",
    "2. How to reset everything\n",
    "3. How to switch notebooks\n",
    "4. Tab complete\n",
    "\n",
    "### How to run code\n",
    "\n",
    "To run a code cell, select it, then use `Shift-Enter` or press the <button class=\"btn btn-default btn-xs\"><i class=\"fa-step-forward fa\"></i><span class=\"toolbar-btn-label\">Run</span></button> button in the toolbar above.  \n",
    "Select the next cell and try running it. You should get a result of `4`."
   ]
  },
  {
   "cell_type": "code",
   "execution_count": null,
   "metadata": {
    "deletable": false,
    "editable": false
   },
   "outputs": [],
   "source": [
    "2 + 2"
   ]
  },
  {
   "cell_type": "markdown",
   "metadata": {},
   "source": [
    "- While a cell is running, a `[*]` will display on the left.\n",
    "- When a cell has yet to be executed, `[ ]` will display.\n",
    "- When it has been run, a number will display indicating the order in which it was run during the execution of the notebook.\n",
    "\n",
    "**IMPORTANT:** The order of the code in the notebook is not necessarily the order in which it was run. This can be a little confusing sometimes.  Use the variable inspector to see current variables by clicking the <button class=\"btn btn-default btn-xs\"><i class=\"fa-crosshairs fa\"></i></button> button in the toolbar.  If you get stuck, just reset the notebook by navigating to **Kernel -> Restart & Clear Output** in the menu above and run things in order again. You won't lose any code when you reset.\n",
    "\n",
    "### How to reset everything\n",
    "\n",
    "If you get stuck, confused, or just want to try a notebook again from the beginning, navigate to **Kernel** -> **Restart & Clear Output** in the menu above to reset python, clearning out all variables and imports.\n",
    "\n",
    "### How to switch notebooks\n",
    "\n",
    "Click the <button class=\"btn btn-default btn-xs\"><i class=\"fa-save fa\"></i></button> button on the left of the toolbar, or navigate to **File** -> **Save and Checkpoint**\n",
    "\n",
    "Then navigate to **File** -> **Close and Halt** and pick another notebook to open.\n",
    "\n",
    "### Tab complete\n",
    "\n",
    "Use the `Tab` key to auto-complete or get a menu of methods and variables. Try pressing tab very frequently, it will seldom fill in anything you don't want.\n",
    "\n",
    "In the next cell, try placing your cursor after the last . and press tab for a list of string methods."
   ]
  },
  {
   "cell_type": "code",
   "execution_count": null,
   "metadata": {
    "deletable": false,
    "editable": false
   },
   "outputs": [],
   "source": [
    "str."
   ]
  },
  {
   "cell_type": "markdown",
   "metadata": {
    "deletable": false,
    "editable": false,
    "run_control": {
     "frozen": true
    }
   },
   "source": [
    "## Install Device Framework"
   ]
  },
  {
   "cell_type": "markdown",
   "metadata": {
    "deletable": false,
    "editable": false,
    "run_control": {
     "frozen": true
    }
   },
   "source": [
    "Before you can use Device Framework, you'll need to install it using pip. This is how you would install Device Framework on your own server or laptop."
   ]
  },
  {
   "cell_type": "code",
   "execution_count": null,
   "metadata": {
    "deletable": false,
    "editable": false
   },
   "outputs": [],
   "source": [
    "!pip install pandevice"
   ]
  },
  {
   "cell_type": "markdown",
   "metadata": {
    "deletable": false,
    "editable": false,
    "run_control": {
     "frozen": true
    }
   },
   "source": [
    "You should see a line near the bottom of the output that says:\n",
    "\n",
    "    Successfully installed pan-python-0.13.0 pandevice-0.6.2\n",
    "\n",
    "Or a message that it is already installed.\n",
    "\n",
    "**pandevice** is the name of the Device Framwork library in python.  **pan-python** is a requirement of pandevice."
   ]
  },
  {
   "cell_type": "markdown",
   "metadata": {
    "deletable": false,
    "editable": false,
    "run_control": {
     "frozen": true
    }
   },
   "source": [
    "## Next step"
   ]
  },
  {
   "cell_type": "markdown",
   "metadata": {
    "deletable": false,
    "editable": false,
    "run_control": {
     "frozen": true
    }
   },
   "source": [
    "After you installed Device Framework (pandevice) in the last section, continue to [Module 2](Module 2 - Getting Started.ipynb)."
   ]
  }
 ],
 "metadata": {
  "kernelspec": {
   "display_name": "Python 3",
   "language": "python",
   "name": "python3"
  },
  "language_info": {
   "codemirror_mode": {
    "name": "ipython",
    "version": 3
   },
   "file_extension": ".py",
   "mimetype": "text/x-python",
   "name": "python",
   "nbconvert_exporter": "python",
   "pygments_lexer": "ipython3",
   "version": "3.6.4"
  },
  "varInspector": {
   "cols": {
    "lenName": 16,
    "lenType": 16,
    "lenVar": 40
   },
   "kernels_config": {
    "python": {
     "delete_cmd_postfix": "",
     "delete_cmd_prefix": "del ",
     "library": "var_list.py",
     "varRefreshCmd": "print(var_dic_list())"
    },
    "r": {
     "delete_cmd_postfix": ") ",
     "delete_cmd_prefix": "rm(",
     "library": "var_list.r",
     "varRefreshCmd": "cat(var_dic_list()) "
    }
   },
   "types_to_exclude": [
    "module",
    "function",
    "builtin_function_or_method",
    "instance",
    "_Feature"
   ],
   "window_display": false
  }
 },
 "nbformat": 4,
 "nbformat_minor": 2
}
