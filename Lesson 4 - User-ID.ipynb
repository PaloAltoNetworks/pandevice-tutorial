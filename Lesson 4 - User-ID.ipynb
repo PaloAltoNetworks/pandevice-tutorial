{
 "cells": [
  {
   "cell_type": "markdown",
   "metadata": {
    "deletable": false,
    "editable": false,
    "run_control": {
     "frozen": true
    }
   },
   "source": [
    "# Lesson 4 - User-ID"
   ]
  },
  {
   "cell_type": "markdown",
   "metadata": {
    "deletable": false,
    "editable": false,
    "run_control": {
     "frozen": true
    }
   },
   "source": [
    "<img src=\".images/userid-overview.png\" alt=\"User-ID Use Cases\" style=\"width: 750px;\"/>\n",
    "\n",
    "## What is User-ID?\n",
    "\n",
    "**User-ID** is not just about users. From an API perspective, User-ID encompases any *dynamic* configuration change to the firewall, ie. any configuration change to the firewall that doesn't require a **commit**. A dynamic change can include any of the following:\n",
    "\n",
    "| User-ID Function               | Description                                                         |\n",
    "|--------------------------------|---------------------------------------------------------------------|\n",
    "| User Login / Logout            | Creates and removes User-to-IP mappings                             |\n",
    "| User / Group Membership        | Often retrieved from AD, you can supplement group info with the API |\n",
    "| Host Information Profile (HIP) | Information about the OS, disk encryption, antivirus, etc of a host |\n",
    "| Dynamic Address Groups         | Tag IP addresses with metadata and enforce policy on tags           |\n",
    "\n",
    "In this lab we'll cover **User Login/Logout** and **Dynamic Address Groups**.\n",
    "\n",
    "User and Server information (User-ID information) is often collected natively from external systems without using the API. Such external systems might include an Active Directory Server, Wireless AP Controller, Virtual Desktop Manager, Virtualization Orchestrator, or AWS Public Cloud. The API is used for systems that are not natively supported, such as a proprietary app, non-standard Radius server, or VPN concentrator. You can send updates to the firewall from these system using the User-ID API. Device Framework makes this very easy."
   ]
  },
  {
   "cell_type": "markdown",
   "metadata": {
    "deletable": false,
    "editable": false,
    "run_control": {
     "frozen": true
    }
   },
   "source": [
    "## Login and Logout\n",
    "\n",
    "The next-generation firewall can enforce policy based on users and groups, instead of IP addresses. To do this, the firewall must always know who is logged into each computer. The firewall maintains a table of User to IP mappings, so when it gets network traffic from an IP, it knows which user generated this traffic.\n",
    "\n",
    "You can create and remove entries in the User to IP mapping table using the API. Here's an example of adding an entry:"
   ]
  },
  {
   "cell_type": "code",
   "execution_count": null,
   "metadata": {
    "deletable": false,
    "editable": false
   },
   "outputs": [],
   "source": [
    "# First, import the needed module and create a Firewall object to work with\n",
    "from pandevice import firewall\n",
    "fw = firewall.Firewall('10.30.11.101', 'admin', 'Ignite18')"
   ]
  },
  {
   "cell_type": "code",
   "execution_count": null,
   "metadata": {
    "deletable": false,
    "editable": false
   },
   "outputs": [],
   "source": [
    "# Now, use the Firewall object's userid subsystem to create a mapping\n",
    "fw.userid.login('example\\\\bob', '10.0.1.10', timeout=60)"
   ]
  },
  {
   "cell_type": "markdown",
   "metadata": {
    "deletable": false,
    "editable": false,
    "run_control": {
     "frozen": true
    }
   },
   "source": [
    "Note: The **timeout** argument is optional and indicates the time in minutes that the entry will exist in the table.\n",
    "\n",
    "Validate the API call worked by logging into the CLI of the firewall. To do this, you'll need to SSH into the Ubuntu server, then SSH from there to the private IP of the firewall. Use the credentials in the code above to login.\n",
    "\n",
    "Once connected to the firewall CLI, run this command to view the User to IP mapping table:  \n",
    "`show user ip-user-mapping all`  (this is a firewall command, not a python command)\n",
    "\n",
    "You should see the user mapping on the firewall now.\n",
    "\n",
    "The entry in the table will timeout after 60 minutes, but say Bob logged out before 60 minutes. Delete the entry in the User to IP mapping table:"
   ]
  },
  {
   "cell_type": "code",
   "execution_count": null,
   "metadata": {
    "deletable": false,
    "editable": false
   },
   "outputs": [],
   "source": [
    "fw.userid.logout('example\\\\bob', '10.0.1.10')"
   ]
  },
  {
   "cell_type": "markdown",
   "metadata": {
    "deletable": false,
    "editable": false,
    "run_control": {
     "frozen": true
    }
   },
   "source": [
    "Validate again using the firewall CLI to ensure the entry was removed from the table."
   ]
  },
  {
   "cell_type": "markdown",
   "metadata": {
    "deletable": false,
    "editable": false,
    "run_control": {
     "frozen": true
    }
   },
   "source": [
    "## Dynamic Address Groups\n",
    "\n",
    "Dynamic Address Groups are a powerful tool for enforcing security policy. They allow the firewall's security policy to be dynamically kept up-to-date with knowledge from external systems such as orchestration, virtualization, cloud, IPAM, NAC, and other tools. For example, the firwall natively supports pulling metadata about virtual machines from VMware vCenter and AWS. There are also integrations with OpenStack, Cisco ACI, and many others to gather metadata for policy use. The firewall is aware of the guest OS, UUID, name, and purpose of the virtual machines so you can create policy based on these attributes, instead of IP addresses.\n",
    "\n",
    "You can also add metadata to the firewall using the API. This is useful in cases where the orchestration tool isn't already integrated with the firewall, or you want to build security policy on additional information not natively supported such as tenant metadata shared to the firewall.\n",
    "\n",
    "There are two parts to a Dynamic Address Group:\n",
    "\n",
    "1. The Dynamic Address Group and match criteria\n",
    "2. The Registered IP and tag table\n",
    "\n",
    "The **Dynamic Address Group** and match criteria is just like a regular Address Group, but instead of giving it a list of IP addresses, you give it a match criteria consisting of tags.  For example, a dynamic address group might match on: `'newyork' AND 'linux' AND 'web'` indicating that the IP addresses in this address group are linux-based web servers located in New York. You can now use this address group in a policy, and whenever a new linux web server is spun up in New York, it will automatically be part of this address group.\n",
    "\n",
    "The **Registered IP and tag table** is a table in the firewall similar to the User to IP mapping table, but instead of mapping IPs to users, it maps IPs to tags. These tags are the same tags used in the match criteria in the Dynamic Address Group. So if we follow the same example, any IP address registered with all 3 tags ('newyork', 'linux' and 'web') will be included in the linux New York web server Dynamic Address Group.\n",
    "\n",
    "Let's try it. First, create a Dynamic Address Group, and add it to a policy:"
   ]
  },
  {
   "cell_type": "code",
   "execution_count": null,
   "metadata": {
    "deletable": false,
    "editable": false
   },
   "outputs": [],
   "source": [
    "from pandevice import firewall, objects, policies\n",
    "fw = firewall.Firewall('10.30.11.101', 'admin', 'Ignite18')"
   ]
  },
  {
   "cell_type": "code",
   "execution_count": null,
   "metadata": {
    "deletable": false,
    "editable": false
   },
   "outputs": [],
   "source": [
    "# Create a Dynamic Address Group and add it as a child of the Firewall in one line\n",
    "ny_web = fw.add(objects.AddressGroup('New York Linux Web Servers',\n",
    "                                     dynamic_value=\"'newyork' AND 'linux' AND 'web'\",\n",
    "                                     description=\"My first Dynamic Address Group\"))"
   ]
  },
  {
   "cell_type": "code",
   "execution_count": null,
   "metadata": {
    "deletable": false,
    "editable": false
   },
   "outputs": [],
   "source": [
    "ny_web.create()"
   ]
  },
  {
   "cell_type": "markdown",
   "metadata": {
    "deletable": false,
    "editable": false,
    "run_control": {
     "frozen": true
    }
   },
   "source": [
    "Check the firewall GUI under **Objects -> Address Groups** to verify the Dynamic Address Group was created.\n",
    "\n",
    "Then create a security policy to use this address group. For a Dynamic Address Group to populate with IP addresses, it must be used in a security policy and committed."
   ]
  },
  {
   "cell_type": "code",
   "execution_count": null,
   "metadata": {
    "deletable": false,
    "editable": false
   },
   "outputs": [],
   "source": [
    "# Create a security rule\n",
    "rulebase = fw.add(policies.Rulebase())\n",
    "ny_web_rule = rulebase.add(policies.SecurityRule('New York web servers allowed',\n",
    "                                                 fromzone='untrust',\n",
    "                                                 tozone='trust',\n",
    "                                                 destination=ny_web,\n",
    "                                                 application=['web-browsing', 'ssl'],\n",
    "                                                 action='allow',\n",
    "                                                 description='Allow web traffic to the New York web servers',\n",
    "                                                ))"
   ]
  },
  {
   "cell_type": "code",
   "execution_count": null,
   "metadata": {
    "deletable": false,
    "editable": false
   },
   "outputs": [],
   "source": [
    "ny_web_rule.create()"
   ]
  },
  {
   "cell_type": "code",
   "execution_count": null,
   "metadata": {
    "deletable": false,
    "editable": false
   },
   "outputs": [],
   "source": [
    "# Commit the new security rule and dynamic address group\n",
    "fw.commit(sync=True)"
   ]
  },
  {
   "cell_type": "markdown",
   "metadata": {
    "deletable": false,
    "editable": false,
    "run_control": {
     "frozen": true
    }
   },
   "source": [
    "That's half the formula, you've create a dynamic address group. But it won't populate with IP addresses unless you satisfy its match criteria with some registered IP tags. You can see the dynamic address group is empty by navigating in the firewall GUI to **Objects -> Address Groups**. Then, in the row for your dynamic address group, click **more...** to see the IP addresses currently populating this group. It should be empty because you haven't created any registered IP tags yet.\n",
    "\n",
    "Tag some IP addresses now using the userid subsystem, similar to the `login` method used in the last section:"
   ]
  },
  {
   "cell_type": "code",
   "execution_count": null,
   "metadata": {
    "deletable": false,
    "editable": false
   },
   "outputs": [],
   "source": [
    "fw.userid.register('10.0.5.5', ['newyork', 'linux', 'web'])\n",
    "fw.userid.register('10.0.6.6', ['london', 'linux', 'database'])"
   ]
  },
  {
   "cell_type": "markdown",
   "metadata": {
    "deletable": false,
    "editable": false,
    "run_control": {
     "frozen": true
    }
   },
   "source": [
    "On the firewall CLI, use this command to validate the registered IP tags were created:  \n",
    "`show object registered-ip all`\n",
    "\n",
    "Note that IP addresses can have any number of tags, and the tags can be any string that makes sense to you. The tags must match the criteria in the dynamic address group to be included in the group.\n",
    "\n",
    "**Validate** the tags were picked up by the Dynamic Address Group.  Navigate in the firewall GUI to **Objects -> Address Groups**. Then, in the row for your dynamic address group, click **more...** to see the IP addresses currently populating this group. IMPORTANT: Dynamic Address Groups are repopulated every 60 seconds, so it can take between 0 and 60 seconds for a new registered IP to show up in the dynamic address group in the GUI. New registered IPs will always show on the CLI immediately.\n",
    "\n",
    "You should see 10.0.5.5 because it matches the Dynamic Address Group criteria, but you will not see 10.0.6.6 because it doesn't match the criteria.\n",
    "\n",
    "Tags can be removed using the `unregister()` method, which is similar in usage to the `register()` method demostrated here."
   ]
  },
  {
   "cell_type": "markdown",
   "metadata": {
    "deletable": false,
    "editable": false,
    "run_control": {
     "frozen": true
    }
   },
   "source": [
    "## Batch User-ID Operations\n",
    "\n",
    "In a large network, User-ID operations can be very rapid. Users login and logout constantly, and VMs are spun up and torn down all day. If you made an API call for every one of these events, you could easily overwhelm the firewall's management plane with API calls. That's why the User-ID API allows multiple events to be batched together in a single API call.\n",
    "\n",
    "Use the `batch_start()` and `batch_end()` methods to control the batching of User-ID operations. Any User-ID method that is called after a `batch_start()` will not result in an API call. Instead, the operation is added to the batch. The `batch_end()` method will close out the batch and send the batched operations collected so far to the firewall."
   ]
  },
  {
   "cell_type": "code",
   "execution_count": null,
   "metadata": {
    "deletable": false,
    "editable": false
   },
   "outputs": [],
   "source": [
    "fw.userid.batch_start()\n",
    "fw.userid.register('10.0.7.7', 'mongodb')\n",
    "fw.userid.register('10.0.8.8', 'apache')"
   ]
  },
  {
   "cell_type": "markdown",
   "metadata": {
    "deletable": false,
    "editable": false,
    "run_control": {
     "frozen": true
    }
   },
   "source": [
    "After executing that cell, check the registered IP tag table with `show object registered-ip all` and notice that the entries above were **not** created on the firewall. That's because they were added to the batch instead. End the batch to send the collected operations to the firewall."
   ]
  },
  {
   "cell_type": "code",
   "execution_count": null,
   "metadata": {
    "deletable": false,
    "editable": false
   },
   "outputs": [],
   "source": [
    "fw.userid.batch_end()"
   ]
  },
  {
   "cell_type": "markdown",
   "metadata": {
    "deletable": false,
    "editable": false,
    "run_control": {
     "frozen": true
    }
   },
   "source": [
    "Check the registered IP tag table again to verify the two new entries were created. Both registered IP entries were made using the same API call."
   ]
  },
  {
   "cell_type": "markdown",
   "metadata": {
    "deletable": false,
    "editable": false,
    "run_control": {
     "frozen": true
    },
    "solution2": "hidden",
    "solution2_first": true
   },
   "source": [
    "## Exercise 1: Login a user\n",
    "\n",
    "Use the User-ID subsystem to tell the firewall that Jill logged into a computer at 10.0.1.11. Jill's username is `mycompany\\\\jill`. Ensure the login entry times out after 40 minutes."
   ]
  },
  {
   "cell_type": "code",
   "execution_count": null,
   "metadata": {
    "deletable": false,
    "editable": false,
    "run_control": {
     "frozen": true
    },
    "solution2": "hidden"
   },
   "outputs": [],
   "source": [
    "fw.userid.login('mycompany\\\\jill', '10.0.1.11', timeout=40)"
   ]
  },
  {
   "cell_type": "code",
   "execution_count": null,
   "metadata": {},
   "outputs": [],
   "source": [
    "# Exercise 1 answer here...\n"
   ]
  },
  {
   "cell_type": "markdown",
   "metadata": {
    "deletable": false,
    "editable": false,
    "run_control": {
     "frozen": true
    }
   },
   "source": [
    "**Validate**: Use the firewall CLI to validate the User to IP mapping was created."
   ]
  },
  {
   "cell_type": "markdown",
   "metadata": {
    "deletable": false,
    "editable": false,
    "run_control": {
     "frozen": true
    },
    "solution2": "hidden",
    "solution2_first": true
   },
   "source": [
    "## Exercise 2: Unregister a tag\n",
    "\n",
    "There were several registered IP tags created in the example steps above, including one server with IP 10.0.5.5 that was tagged with `newyork`, `linux`, and `web` so it would be included in the **New York Linux Web Servers** dynamic address group.  This server is no longer running on linux, so remove only the `linux` tag from this registered IP address."
   ]
  },
  {
   "cell_type": "code",
   "execution_count": null,
   "metadata": {
    "deletable": false,
    "editable": false,
    "run_control": {
     "frozen": true
    },
    "solution2": "hidden"
   },
   "outputs": [],
   "source": [
    "fw.userid.unregister('10.0.5.5', 'linux')"
   ]
  },
  {
   "cell_type": "code",
   "execution_count": null,
   "metadata": {},
   "outputs": [],
   "source": [
    "# Exercise 2 answer here...\n"
   ]
  },
  {
   "cell_type": "markdown",
   "metadata": {
    "deletable": false,
    "editable": false,
    "run_control": {
     "frozen": true
    }
   },
   "source": [
    "**Validate**: Use the firewall CLI to verify the tag `linux` was removed. The `newyork` and `web` tags should remain. Verify in the firewall GUI that the IP address was automatically removed from the **New York Linux Web Servers** dynamic address group."
   ]
  },
  {
   "cell_type": "markdown",
   "metadata": {
    "deletable": false,
    "editable": false,
    "run_control": {
     "frozen": true
    },
    "solution2": "hidden",
    "solution2_first": true
   },
   "source": [
    "## Exercise 3: Multiple operations\n",
    "\n",
    "Use a User-ID Batch to perform several operations in a single API call. The operations are:\n",
    "\n",
    "1. User `mycompany\\\\kurt` logged into 10.0.1.13.\n",
    "2. User `mycompany\\\\nancy` logged into 10.0.1.14.\n",
    "3. User `mycompany\\\\jill` logged out of 10.0.1.11. (ie. remove the mapping created in exercise 1)\n",
    "4. Two new Linux Web Servers were spun up in New York with IP addresses 10.0.9.2 and 10.0.9.3, so tag them with these tags: `newyork`, `linux`, and `web`\n",
    "\n",
    "Extra credit: Register both New York linux web server IPs using a single call to the `register()` method. You might need to reference the documentation for the `register()` method to figure out how."
   ]
  },
  {
   "cell_type": "code",
   "execution_count": null,
   "metadata": {
    "deletable": false,
    "editable": false,
    "run_control": {
     "frozen": true
    },
    "solution2": "hidden"
   },
   "outputs": [],
   "source": [
    "fw.userid.batch_start()\n",
    "fw.userid.login('mycompany\\\\kurt', '10.0.1.13')\n",
    "fw.userid.login('mycompany\\\\nancy', '10.0.1.14')\n",
    "fw.userid.logout('mycompany\\\\jill', '10.0.1.11')\n",
    "fw.userid.register(['10.0.9.2', '10.0.9.3'], ['newyork', 'linux', 'web'])\n",
    "fw.userid.batch_end()"
   ]
  },
  {
   "cell_type": "code",
   "execution_count": null,
   "metadata": {},
   "outputs": [],
   "source": [
    "# Exercise 3 answer here...\n",
    "\n",
    "\n",
    "\n",
    "\n",
    "\n"
   ]
  },
  {
   "cell_type": "markdown",
   "metadata": {
    "deletable": false,
    "editable": false,
    "run_control": {
     "frozen": true
    }
   },
   "source": [
    "**Validate**: Use the firewall CLI to verify there are two user mappings (Kurt and Nancy). Verify in the firewall GUI that the IP address (10.0.9.2 and 10.0.9.3) were automatically added to the **New York Linux Web Servers** dynamic address group. (Remember it can take up to 60 seconds for the dynamic address group to update)"
   ]
  },
  {
   "cell_type": "markdown",
   "metadata": {
    "deletable": false,
    "editable": false,
    "run_control": {
     "frozen": true
    }
   },
   "source": [
    "# Next steps\n",
    "\n",
    "You've learned how to make dynamic changes to the firewall. This is a powerful feature of the next-generation firewall and much of it is unique to Palo Alto Networks. Leverage the tools you've learned here to improve operational effeciency, reduce change control requirements, and eliminate stale security rules in your organization.\n",
    "\n",
    "Everything we've done so far has involved only a single firewall. Next, you'll learn how to effectively leverage Panorama to scale out what you've learned across multiple firewalls in your network. Continue on to [Lesson 5 - Panorama](Lesson 5 - Panorama.ipynb)."
   ]
  }
 ],
 "metadata": {
  "kernelspec": {
   "display_name": "Python 3",
   "language": "python",
   "name": "python3"
  },
  "language_info": {
   "codemirror_mode": {
    "name": "ipython",
    "version": 3
   },
   "file_extension": ".py",
   "mimetype": "text/x-python",
   "name": "python",
   "nbconvert_exporter": "python",
   "pygments_lexer": "ipython3",
   "version": "3.6.4"
  },
  "varInspector": {
   "cols": {
    "lenName": 16,
    "lenType": 16,
    "lenVar": 40
   },
   "kernels_config": {
    "python": {
     "delete_cmd_postfix": "",
     "delete_cmd_prefix": "del ",
     "library": "var_list.py",
     "varRefreshCmd": "print(var_dic_list())"
    },
    "r": {
     "delete_cmd_postfix": ") ",
     "delete_cmd_prefix": "rm(",
     "library": "var_list.r",
     "varRefreshCmd": "cat(var_dic_list()) "
    }
   },
   "types_to_exclude": [
    "module",
    "function",
    "builtin_function_or_method",
    "instance",
    "_Feature"
   ],
   "window_display": false
  }
 },
 "nbformat": 4,
 "nbformat_minor": 2
}
